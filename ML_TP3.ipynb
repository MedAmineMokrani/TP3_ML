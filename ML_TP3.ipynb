{
 "cells": [
  {
   "cell_type": "code",
   "execution_count": 0,
   "metadata": {
    "application/vnd.databricks.v1+cell": {
     "cellMetadata": {
      "byteLimit": 2048000,
      "rowLimit": 10000
     },
     "inputWidgets": {},
     "nuid": "ed6dbdbe-7e64-4e04-aa4d-0d8d5ffda561",
     "showTitle": false,
     "title": ""
    }
   },
   "outputs": [],
   "source": [
    "def argmax_reject_threshold(y, threshold):\n",
    "    y_argmax = np.argmax(y, axis=1)\n",
    "    y_masked = np.ma.array(y_argmax, mask=(np.amax(y, axis=1) < threshold))\n",
    "\n",
    "    return y_masked.filled(-1)\n",
    "\n",
    "def argmax_top2_reject_threshold(y, threshold):\n",
    "    y_argmax = np.argmax(y, axis=1)\n",
    "    y_top2 = np.sort(y, axis=1)[:,-1:-3:-1]\n",
    "    y_masked = np.ma.array(y_argmax, mask=((y_top2[:,0] - y_top2[:,1]) < threshold))\n",
    "\n",
    "    return y_masked.filled(-1)"
   ]
  },
  {
   "cell_type": "code",
   "execution_count": 0,
   "metadata": {
    "application/vnd.databricks.v1+cell": {
     "cellMetadata": {
      "byteLimit": 2048000,
      "rowLimit": 10000
     },
     "inputWidgets": {},
     "nuid": "5ddb0a73-9ba7-4c57-80f2-f6dc623090db",
     "showTitle": false,
     "title": ""
    }
   },
   "outputs": [],
   "source": [
    "from sklearn.datasets import load_digits\n",
    "digits = load_digits()"
   ]
  },
  {
   "cell_type": "code",
   "execution_count": 0,
   "metadata": {
    "application/vnd.databricks.v1+cell": {
     "cellMetadata": {
      "byteLimit": 2048000,
      "rowLimit": 10000
     },
     "inputWidgets": {},
     "nuid": "ae5fbcc6-259f-4bd8-a32a-14db098cab9e",
     "showTitle": false,
     "title": ""
    }
   },
   "outputs": [],
   "source": [
    "import matplotlib.pyplot as plt\n",
    "plt.gray()\n",
    "plt.matshow(digits.images[0])\n",
    "plt.show()"
   ]
  },
  {
   "cell_type": "code",
   "execution_count": 0,
   "metadata": {
    "application/vnd.databricks.v1+cell": {
     "cellMetadata": {
      "byteLimit": 2048000,
      "rowLimit": 10000
     },
     "inputWidgets": {},
     "nuid": "d917ec1f-1ce0-4916-8281-2ed1a4b3eec5",
     "showTitle": false,
     "title": ""
    }
   },
   "outputs": [],
   "source": [
    "X = digits.data\n",
    "y = digits.target"
   ]
  },
  {
   "cell_type": "code",
   "execution_count": 0,
   "metadata": {
    "application/vnd.databricks.v1+cell": {
     "cellMetadata": {
      "byteLimit": 2048000,
      "rowLimit": 10000
     },
     "inputWidgets": {},
     "nuid": "dc82afd4-3b55-49bf-a51e-e42387f4d6cb",
     "showTitle": false,
     "title": ""
    }
   },
   "outputs": [],
   "source": [
    "from sklearn.model_selection import train_test_split\n",
    "X_train, X_test, y_train, y_test = train_test_split(X, y, test_size=0.3)"
   ]
  },
  {
   "cell_type": "code",
   "execution_count": 0,
   "metadata": {
    "application/vnd.databricks.v1+cell": {
     "cellMetadata": {
      "byteLimit": 2048000,
      "rowLimit": 10000
     },
     "inputWidgets": {},
     "nuid": "098f15c7-aab7-4dc2-9e42-77f68314614a",
     "showTitle": false,
     "title": ""
    }
   },
   "outputs": [],
   "source": [
    "from sklearn.neural_network import MLPClassifier\n",
    "C = 10\n",
    "clf1 = MLPClassifier(hidden_layer_sizes=C, activation='tanh', solver='sgd', batch_size=1, alpha=0, learning_rate='adaptive', verbose=1).fit(X_train, y_train)\n"
   ]
  },
  {
   "cell_type": "code",
   "execution_count": 0,
   "metadata": {
    "application/vnd.databricks.v1+cell": {
     "cellMetadata": {
      "byteLimit": 2048000,
      "rowLimit": 10000
     },
     "inputWidgets": {},
     "nuid": "0c63606b-feb8-4334-b3fe-c375c1654167",
     "showTitle": false,
     "title": ""
    }
   },
   "outputs": [],
   "source": [
    "from sklearn.model_selection import validation_curve\n",
    "import numpy as np\n",
    "\n",
    "C = np.array([1,2,3,4,5,8,10,15,20,25,30,35,40])\n",
    "\n",
    "train_scores_list = []\n",
    "validation_scores_list = []\n",
    "\n",
    "for i in range(10):\n",
    "    train_scores, validation_scores = validation_curve(\n",
    "            MLPClassifier(activation='tanh', solver='adam', batch_size=1,alpha=0, learning_rate='adaptive',early_stopping=True, validation_fraction=0.2), \n",
    "            X_train, y_train, param_name=\"hidden_layer_sizes\",param_range=C,scoring=\"accuracy\", n_jobs=2)\n",
    "    train_scores_list.append(train_scores.mean())\n",
    "    validation_scores_list.append(validation_scores.mean())\n",
    "\n",
    "train_mean = np.mean(train_scores_list)\n",
    "train_std = np.std(train_scores_list)\n",
    "validation_mean = np.mean(validation_scores_list)\n",
    "validation_std = np.std(validation_scores_list)\n",
    "    "
   ]
  },
  {
   "cell_type": "code",
   "execution_count": 0,
   "metadata": {
    "application/vnd.databricks.v1+cell": {
     "cellMetadata": {
      "byteLimit": 2048000,
      "rowLimit": 10000
     },
     "inputWidgets": {},
     "nuid": "37cf7a44-3127-461b-bfe1-ebcd5f3f2b25",
     "showTitle": false,
     "title": ""
    }
   },
   "outputs": [],
   "source": [
    "\n",
    "plt.plot(C, train_scores_list, label='Train Scores')\n",
    "plt.plot(C, validation_scores_list, label='Validation Scores')\n",
    "plt.fill_between(C, train_mean-train_std, train_mean+train_std, alpha=0.2)\n",
    "plt.fill_between(C, validation_mean-validation_std, validation_mean+validation_std, alpha=0.2)\n",
    "plt.legend()\n",
    "plt.show()"
   ]
  },
  {
   "cell_type": "code",
   "execution_count": 0,
   "metadata": {
    "application/vnd.databricks.v1+cell": {
     "cellMetadata": {
      "byteLimit": 2048000,
      "rowLimit": 10000
     },
     "inputWidgets": {},
     "nuid": "e27ef630-995d-4f06-ac51-440defaec798",
     "showTitle": false,
     "title": ""
    }
   },
   "outputs": [],
   "source": [
    "from sklearn.metrics import confusion_matrix\n",
    "y_pred = clf1.predict(X_test)\n",
    "\n",
    "conf_mat = confusion_matrix(y_test, y_pred)\n",
    "print(conf_mat)"
   ]
  },
  {
   "cell_type": "code",
   "execution_count": 0,
   "metadata": {
    "application/vnd.databricks.v1+cell": {
     "cellMetadata": {
      "byteLimit": 2048000,
      "rowLimit": 10000
     },
     "inputWidgets": {},
     "nuid": "316b2343-67eb-4014-bfba-4273b7988838",
     "showTitle": false,
     "title": ""
    }
   },
   "outputs": [],
   "source": [
    "y_proba = clf1.predict_proba(X_train)\n",
    "\n",
    "\n",
    "for threshold in np.arange(0, 1.01, 0.01):\n",
    "    y_pred = argmax_reject_threshold(y_proba, threshold)\n",
    "    rejection_rate = np.mean(y_pred == -1)\n",
    "    recognition_rate = np.mean(y_pred[y_pred != -1] == y_train[y_pred != -1])\n",
    "    print(f\"Seuil: {threshold:.2f}, Taux de rejection: {rejection_rate:.4f}, Taux d'acceptation: {recognition_rate:.4f}\")\n",
    "    \n",
    "for threshold in np.arange(0, 1.01, 0.01):\n",
    "    y_pred = argmax_top2_reject_threshold(y_proba, threshold)\n",
    "    rejection_rate = np.mean(y_pred == -1)\n",
    "    recognition_rate = np.mean(y_pred[y_pred != -1] == y_train[y_pred != -1])\n",
    "\n",
    "    print(f\"Seuil: {threshold:.2f}, Taux de rejection: {rejection_rate:.4f}, Taux d'acceptation: {recognition_rate:.4f}\")"
   ]
  },
  {
   "cell_type": "code",
   "execution_count": 0,
   "metadata": {
    "application/vnd.databricks.v1+cell": {
     "cellMetadata": {
      "byteLimit": 2048000,
      "rowLimit": 10000
     },
     "inputWidgets": {},
     "nuid": "9535c046-6517-4f76-8847-4cce444fb6e5",
     "showTitle": false,
     "title": ""
    }
   },
   "outputs": [],
   "source": [
    "reject_rates_1 = []\n",
    "accept_rates_1 = []\n",
    "reject_rates_2 = []\n",
    "accept_rates_2 = []\n",
    "\n",
    "for threshold in np.arange(0, 1.01, 0.01):\n",
    "    y_pred = argmax_reject_threshold(y_proba, threshold)\n",
    "    rejection_rate = np.mean(y_pred == -1)\n",
    "    recognition_rate = np.mean(y_pred[y_pred != -1] == y_train[y_pred != -1])\n",
    "    reject_rates_1.append(rejection_rate)\n",
    "    accept_rates_1.append(recognition_rate)\n",
    "\n",
    "for threshold in np.arange(0, 1.01, 0.01):\n",
    "    y_pred = argmax_top2_reject_threshold(y_proba, threshold)\n",
    "    rejection_rate = np.mean(y_pred == -1)\n",
    "    recognition_rate = np.mean(y_pred[y_pred != -1] == y_train[y_pred != -1])\n",
    "    reject_rates_2.append(rejection_rate)\n",
    "    accept_rates_2.append(recognition_rate)\n"
   ]
  },
  {
   "cell_type": "code",
   "execution_count": 0,
   "metadata": {
    "application/vnd.databricks.v1+cell": {
     "cellMetadata": {
      "byteLimit": 2048000,
      "rowLimit": 10000
     },
     "inputWidgets": {},
     "nuid": "be036f2a-d23f-4cb7-b4d4-e4ad43a0f053",
     "showTitle": false,
     "title": ""
    }
   },
   "outputs": [],
   "source": [
    "import matplotlib.pyplot as plt\n",
    "\n",
    "plt.plot(reject_rates_1, accept_rates_1)\n",
    "plt.plot(reject_rates_2, accept_rates_2)\n",
    "plt.xlabel('Taux de rejection')\n",
    "plt.ylabel(\"Taux d'acceptation\")\n",
    "plt.legend()\n",
    "plt.show()\n"
   ]
  },
  {
   "cell_type": "code",
   "execution_count": 0,
   "metadata": {
    "application/vnd.databricks.v1+cell": {
     "cellMetadata": {
      "byteLimit": 2048000,
      "rowLimit": 10000
     },
     "inputWidgets": {},
     "nuid": "6d77c41b-315a-4cee-b92d-cac7311e22e4",
     "showTitle": false,
     "title": ""
    }
   },
   "outputs": [],
   "source": [
    "import numpy as np\n",
    "from sklearn.neighbors import KNeighborsClassifier\n",
    "\n",
    "reject_indices = np.where(y_pred == -1)[0]\n",
    "rejected_examples = X_train[reject_indices]\n",
    "knn = KNeighborsClassifier(n_neighbors=3)\n",
    "knn.fit(X_train, y_train)\n",
    "rejected_labels = knn.predict(rejected_examples)\n",
    "y_pred[reject_indices] = rejected_labels\n"
   ]
  },
  {
   "cell_type": "code",
   "execution_count": 0,
   "metadata": {
    "application/vnd.databricks.v1+cell": {
     "cellMetadata": {
      "byteLimit": 2048000,
      "rowLimit": 10000
     },
     "inputWidgets": {},
     "nuid": "ef18c2cd-f7ae-4174-8c89-1b010ec39906",
     "showTitle": false,
     "title": ""
    }
   },
   "outputs": [],
   "source": [
    "\n",
    "confusion_matrix_1 = confusion_matrix(y_train, clf1.predict(X_train))\n",
    "print(\"Matrice Confusion (Premier etage):\\n\", confusion_matrix_1)\n",
    "\n",
    "confusion_matrix_cascade = confusion_matrix(y_train, y_pred)\n",
    "print(\"Matrice Confusion Matrix (Cascade):\\n\", confusion_matrix_cascade)\n"
   ]
  }
 ],
 "metadata": {
  "application/vnd.databricks.v1+notebook": {
   "dashboards": [],
   "language": "python",
   "notebookMetadata": {
    "pythonIndentUnit": 4
   },
   "notebookName": "ML",
   "notebookOrigID": 3720426069507697,
   "widgets": {}
  }
 },
 "nbformat": 4,
 "nbformat_minor": 0
}
